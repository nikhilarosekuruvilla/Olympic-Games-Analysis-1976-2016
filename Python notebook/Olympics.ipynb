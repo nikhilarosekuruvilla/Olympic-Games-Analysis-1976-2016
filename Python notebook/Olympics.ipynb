{
 "cells": [
  {
   "cell_type": "markdown",
   "metadata": {},
   "source": [
    "<img src='pic.jpg'>"
   ]
  },
  {
   "cell_type": "markdown",
   "metadata": {},
   "source": [
    "## Table of Contents"
   ]
  },
  {
   "cell_type": "markdown",
   "metadata": {},
   "source": [
    "* [Introduction](#Introduction)\n",
    "* [Datasets Used](#du)\n",
    "* [Import Libraries](#il)\n",
    "* [Reading Data](#rd)\n",
    "* [1st Visualization : Top countries with Olympic medals](#1v)\n",
    "* [1st Visualization-II: Gold, Silver and Bronze medals for top 10 countries](#2v)\n",
    "   > [Insights](#i1)\n",
    "* [2nd Visualization: Conversion rate to medals](#3v)\n",
    "   >[Insights](#i2)\n",
    "* [3rd Visualization-I: Gender Equality at Olympics](#4v)\n",
    "   >[Insights](#i3)\n",
    "* [3rd Visualization-II: Sex ratio of USA, Russia & Germany at Olympics](#5v)\n",
    "   >[Insights](#i4)\n",
    "* [Exploratory Data Analysis](#ed)\n",
    "     1. [Female dominated Sports](#e1)\n",
    "     2. [Age Analysis](#e2)\n",
    "     3. [Sex ratio at Summer vs Winter Olympics](#e3)\n",
    "\n",
    "## Introduction"
   ]
  },
  {
   "cell_type": "markdown",
   "metadata": {},
   "source": [
    "The modern [Olympic Games](https://www.olympic.org) or Olympics are leading international sporting events featuring summer and winter sports competitions in which thousands of athletes from around the world participate in a variety of competitions. The Olympic Games are considered the world's foremost sports competition with more than 200 nations participating. The Olympic Games are held every four years, with the Summer and Winter Games alternating by occurring every four years but two years apart."
   ]
  },
  {
   "cell_type": "markdown",
   "metadata": {},
   "source": [
    "<a id=\"du\"></a>"
   ]
  },
  {
   "cell_type": "markdown",
   "metadata": {},
   "source": [
    "## Dataset used"
   ]
  },
  {
   "cell_type": "markdown",
   "metadata": {},
   "source": [
    "[Historical Olympics data](https://www.kaggle.com/heesoo37/120-years-of-olympic-history-athletes-and-results)\n",
    "\n",
    "This dataset contains Olympics data from Athens 1896 to Rio 2016 of both Winter and Summer Olympics. For the sake of analysis I am only considering Olympic games from the year 1976 i.e last ten Olympics games."
   ]
  },
  {
   "cell_type": "markdown",
   "metadata": {},
   "source": [
    "<a id=\"il\"></a>"
   ]
  },
  {
   "cell_type": "markdown",
   "metadata": {},
   "source": [
    "## Import libraries"
   ]
  },
  {
   "cell_type": "code",
   "execution_count": 2,
   "metadata": {},
   "outputs": [],
   "source": [
    "from IPython.core.interactiveshell import InteractiveShell\n",
    "InteractiveShell.ast_node_interactivity = \"all\"\n",
    "import pandas as pd\n",
    "from matplotlib import pyplot as plt\n",
    "%matplotlib inline\n",
    "import seaborn as sns\n",
    "import math\n",
    "import plotly.graph_objs as go\n",
    "import plotly.plotly as py\n",
    "import re\n",
    "import warnings\n",
    "warnings.filterwarnings(\"ignore\")"
   ]
  },
  {
   "cell_type": "markdown",
   "metadata": {},
   "source": [
    "<a id=\"rd\"></a>"
   ]
  },
  {
   "cell_type": "markdown",
   "metadata": {},
   "source": [
    "## Reading data"
   ]
  },
  {
   "cell_type": "code",
   "execution_count": 3,
   "metadata": {},
   "outputs": [
    {
     "data": {
      "text/html": [
       "<div>\n",
       "<style scoped>\n",
       "    .dataframe tbody tr th:only-of-type {\n",
       "        vertical-align: middle;\n",
       "    }\n",
       "\n",
       "    .dataframe tbody tr th {\n",
       "        vertical-align: top;\n",
       "    }\n",
       "\n",
       "    .dataframe thead th {\n",
       "        text-align: right;\n",
       "    }\n",
       "</style>\n",
       "<table border=\"1\" class=\"dataframe\">\n",
       "  <thead>\n",
       "    <tr style=\"text-align: right;\">\n",
       "      <th></th>\n",
       "      <th>ID</th>\n",
       "      <th>Name</th>\n",
       "      <th>Sex</th>\n",
       "      <th>Age</th>\n",
       "      <th>Height</th>\n",
       "      <th>Weight</th>\n",
       "      <th>Team</th>\n",
       "      <th>NOC</th>\n",
       "      <th>Games</th>\n",
       "      <th>Year</th>\n",
       "      <th>Season</th>\n",
       "      <th>City</th>\n",
       "      <th>Sport</th>\n",
       "      <th>Event</th>\n",
       "      <th>Medal</th>\n",
       "    </tr>\n",
       "  </thead>\n",
       "  <tbody>\n",
       "    <tr>\n",
       "      <th>0</th>\n",
       "      <td>1</td>\n",
       "      <td>A Dijiang</td>\n",
       "      <td>M</td>\n",
       "      <td>24.0</td>\n",
       "      <td>180.0</td>\n",
       "      <td>80.0</td>\n",
       "      <td>China</td>\n",
       "      <td>CHN</td>\n",
       "      <td>1992 Summer</td>\n",
       "      <td>1992</td>\n",
       "      <td>Summer</td>\n",
       "      <td>Barcelona</td>\n",
       "      <td>Basketball</td>\n",
       "      <td>Basketball Men's Basketball</td>\n",
       "      <td>NaN</td>\n",
       "    </tr>\n",
       "    <tr>\n",
       "      <th>1</th>\n",
       "      <td>2</td>\n",
       "      <td>A Lamusi</td>\n",
       "      <td>M</td>\n",
       "      <td>23.0</td>\n",
       "      <td>170.0</td>\n",
       "      <td>60.0</td>\n",
       "      <td>China</td>\n",
       "      <td>CHN</td>\n",
       "      <td>2012 Summer</td>\n",
       "      <td>2012</td>\n",
       "      <td>Summer</td>\n",
       "      <td>London</td>\n",
       "      <td>Judo</td>\n",
       "      <td>Judo Men's Extra-Lightweight</td>\n",
       "      <td>NaN</td>\n",
       "    </tr>\n",
       "    <tr>\n",
       "      <th>2</th>\n",
       "      <td>3</td>\n",
       "      <td>Gunnar Nielsen Aaby</td>\n",
       "      <td>M</td>\n",
       "      <td>24.0</td>\n",
       "      <td>NaN</td>\n",
       "      <td>NaN</td>\n",
       "      <td>Denmark</td>\n",
       "      <td>DEN</td>\n",
       "      <td>1920 Summer</td>\n",
       "      <td>1920</td>\n",
       "      <td>Summer</td>\n",
       "      <td>Antwerpen</td>\n",
       "      <td>Football</td>\n",
       "      <td>Football Men's Football</td>\n",
       "      <td>NaN</td>\n",
       "    </tr>\n",
       "  </tbody>\n",
       "</table>\n",
       "</div>"
      ],
      "text/plain": [
       "   ID                 Name Sex   Age  Height  Weight     Team  NOC  \\\n",
       "0   1            A Dijiang   M  24.0   180.0    80.0    China  CHN   \n",
       "1   2             A Lamusi   M  23.0   170.0    60.0    China  CHN   \n",
       "2   3  Gunnar Nielsen Aaby   M  24.0     NaN     NaN  Denmark  DEN   \n",
       "\n",
       "         Games  Year  Season       City       Sport  \\\n",
       "0  1992 Summer  1992  Summer  Barcelona  Basketball   \n",
       "1  2012 Summer  2012  Summer     London        Judo   \n",
       "2  1920 Summer  1920  Summer  Antwerpen    Football   \n",
       "\n",
       "                          Event Medal  \n",
       "0   Basketball Men's Basketball   NaN  \n",
       "1  Judo Men's Extra-Lightweight   NaN  \n",
       "2       Football Men's Football   NaN  "
      ]
     },
     "execution_count": 3,
     "metadata": {},
     "output_type": "execute_result"
    }
   ],
   "source": [
    "df_olympics=pd.read_csv(\"athlete_events.csv\")\n",
    "df_olympics.head(3)"
   ]
  },
  {
   "cell_type": "code",
   "execution_count": 4,
   "metadata": {},
   "outputs": [],
   "source": [
    "df_olympics.Team=df_olympics.Team.apply(lambda x: \" \".join(re.findall(\"[a-zA-Z]+\", x)))\n",
    "df_olympics.Team[(df_olympics.Team==\"Soviet Union\")|(df_olympics.Team==\"Unified Team\")]=\"Russia\"\n",
    "df_olympics.NOC[(df_olympics.NOC==\"URS\")|(df_olympics.NOC==\"EUN\")]=\"RUS\"\n",
    "df_olympics.Team[(df_olympics.Team==\"East Germany\")]=\"Germany\"\n",
    "df_olympics.Team[(df_olympics.Team==\"West Germany\")]=\"Germany\"\n",
    "df_olympics.NOC[(df_olympics.NOC==\"GDR\")|(df_olympics.NOC==\"FRG\")]=\"GER\"\n",
    "df_olympics_summer=df_olympics[(df_olympics.Year>=1973)&(df_olympics.Season==\"Summer\")]\n",
    "df_olympics_winter=df_olympics[(df_olympics.Year>=1973)&(df_olympics.Season==\"Winter\")]\n",
    "df_olympics_full=df_olympics[(df_olympics.Year>=1973)]"
   ]
  },
  {
   "cell_type": "markdown",
   "metadata": {},
   "source": [
    "<a id=\"1v\"></a>"
   ]
  },
  {
   "cell_type": "markdown",
   "metadata": {},
   "source": [
    "## 1st Visualization-I: Top countries with Olympic medals"
   ]
  },
  {
   "cell_type": "code",
   "execution_count": 5,
   "metadata": {
    "scrolled": false
   },
   "outputs": [],
   "source": [
    "# Summer\n",
    "df_olympics_medal_summer=df_olympics_summer[(df_olympics_summer.Medal.notnull())]\n",
    "df_olympics_medal_summer.Team=df_olympics_medal_summer.Team.apply(lambda x: \" \".join(re.findall(\"[a-zA-Z]+\", x)))\n",
    "df_olympics_medal_countries_per_year_summer=df_olympics_medal_summer.groupby([\"NOC\", \"Year\"]).agg(\\\n",
    "    {\"Event\":\"nunique\"}).reset_index()\n",
    "df_olympics_medal_countries_summer=df_olympics_medal_countries_per_year_summer.groupby([\"NOC\"]).agg(\\\n",
    "    {\"Event\":\"sum\"}).reset_index()\n",
    "df_olympics_medal_countries_summer_top=df_olympics_medal_countries_summer.sort_values(\\\n",
    "    \"Event\", ascending=False).head(10)\n",
    "# Winter\n",
    "df_olympics_medal_winter=df_olympics_winter[(df_olympics_winter.Medal.notnull())]\n",
    "df_olympics_medal_winter.Team=df_olympics_medal_winter.Team.apply(lambda x: \" \".join(re.findall(\"[a-zA-Z]+\", x)))\n",
    "df_olympics_medal_countries_per_year_winter=df_olympics_medal_winter.groupby([\"NOC\", \"Year\"]).agg(\\\n",
    "    {\"Event\":\"nunique\"}).reset_index()\n",
    "df_olympics_medal_countries_winter=df_olympics_medal_countries_per_year_winter.groupby([\"NOC\"]).agg(\\\n",
    "    {\"Event\":\"sum\"}).reset_index()\n",
    "df_olympics_medal_countries_winter_top=df_olympics_medal_countries_winter.sort_values(\\\n",
    "    \"Event\", ascending=False).head(10)"
   ]
  },
  {
   "cell_type": "code",
   "execution_count": 6,
   "metadata": {
    "scrolled": false
   },
   "outputs": [
    {
     "data": {
      "text/html": [
       "<iframe id=\"igraph\" scrolling=\"no\" style=\"border:none;\" seamless=\"seamless\" src=\"https://plot.ly/~nikhilarosekuruvilla/1014.embed\" height=\"525px\" width=\"100%\"></iframe>"
      ],
      "text/plain": [
       "<plotly.tools.PlotlyDisplay object>"
      ]
     },
     "execution_count": 6,
     "metadata": {},
     "output_type": "execute_result"
    }
   ],
   "source": [
    "data = [ dict( name='Summer', visible=True,\n",
    "        type = 'choropleth',\n",
    "        locations = df_olympics_medal_countries_summer.NOC,\n",
    "        z = df_olympics_medal_countries_summer.Event,\n",
    "        colorscale = [[0,\"rgb(255,69,0)\"],[0.35,\"rgb(255,99,71)\"],[0.5,\"rgb(255,127,80)\"],\\\n",
    "            [0.6,\"rgb(255,140,0)\"],[0.7,\"rgb(255,165,0)\"],[1,\"rgb(255,215,0)\"]],\n",
    "        autocolorscale = False,\n",
    "        reversescale = True,\n",
    "        colorbar = dict(\n",
    "            autotick = False,\n",
    "            title = 'Medal count')),\n",
    "    dict( name='Winter', visible=False,\n",
    "        type = 'choropleth',\n",
    "        locations = df_olympics_medal_countries_winter.NOC,\n",
    "        z = df_olympics_medal_countries_winter.Event, \n",
    "        colorscale = [[0,\"rgb(0,128,128)\"],[0.35,\"rgb(32,178,170)\"],[0.5,\"rgb(64,224,208)\"],\\\n",
    "            [0.6,\"rgb(0,255,255)\"],[0.7,\"rgb(175,238,238)\"],[1,\"rgb(224,255,255)\"]],\n",
    "        autocolorscale = False,\n",
    "        reversescale = True,\n",
    "        colorbar = dict(\n",
    "            autotick = False,\n",
    "            title = 'Medal count'))  \n",
    "]\n",
    "updatemenus=list([\n",
    "    dict(\n",
    "        buttons=list([   \n",
    "            dict(\n",
    "                label='Summer',\n",
    "                method='update',\n",
    "                args = [{'visible': [True, False]},\n",
    "                         {'title': 'Medals won per Country in Summer Olympics'}]\n",
    "            ),\n",
    "            dict(\n",
    "                label='Winter',\n",
    "                method='update',\n",
    "                args = [{'visible': [False, True, False]},\n",
    "                         {'title': 'Medals won per Country in Winter Olympics'}]\n",
    "            )\n",
    "        ]),\n",
    "        direction = 'down',\n",
    "        pad = {'r': 10, 't': 10},\n",
    "        showactive = True,\n",
    "        x = 0,\n",
    "        xanchor = 'left',\n",
    "        y = 1.1,\n",
    "        yanchor = 'top' \n",
    "    )\n",
    "])\n",
    "layout=go.Layout(title=\"Medals won per Country in Summer Olympics\",\n",
    "                font=dict(size=16))\n",
    "layout['updatemenus']=updatemenus\n",
    "fig = dict( data=data, layout=layout)\n",
    "py.iplot(fig, validate=False)"
   ]
  },
  {
   "cell_type": "markdown",
   "metadata": {},
   "source": [
    "<a id=\"2v\"></a>"
   ]
  },
  {
   "cell_type": "markdown",
   "metadata": {},
   "source": [
    "## 1st Visualization-II: Gold, Silver and Bronze medals for top 10 countries"
   ]
  },
  {
   "cell_type": "code",
   "execution_count": 7,
   "metadata": {},
   "outputs": [],
   "source": [
    "# Summer\n",
    "df_olympics_medal_GSB_summer=df_olympics_summer[(df_olympics_summer.Medal.notnull())]\n",
    "df_olympics_medal_GSB_summer.Team=df_olympics_medal_GSB_summer.Team.apply(lambda x: \" \".join(re.findall(\"[a-zA-Z]+\", x)))\n",
    "df_olympics_medal_GSB_summer=df_olympics_medal_GSB_summer.groupby([\"Year\", \"NOC\", \"Medal\"]).agg(\\\n",
    "    {\"Event\":\"nunique\"}).reset_index()\n",
    "df_olympics_medal_GSB_summer=df_olympics_medal_GSB_summer.groupby([\"NOC\", \"Medal\"]).agg(\\\n",
    "    {\"Event\":\"sum\"}).reset_index()\n",
    "df_olympics_medal_GSB_summer=pd.pivot_table(df_olympics_medal_GSB_summer, values='Event', index=[\"NOC\"],\\\n",
    "                                       columns=['Medal']).reset_index()\n",
    "df_olympics_medal_GSB_summer.sort_values([\"Gold\", \"Silver\", \"Bronze\"], ascending=False, inplace=True)\n",
    "top_countries=df_olympics_medal_countries_summer.sort_values(\"Event\", ascending=False).head(10).NOC.values\n",
    "top_countries=top_countries.tolist()\n",
    "df_olympics_medal_GSB_summer=df_olympics_medal_GSB_summer.loc[df_olympics_medal_GSB_summer.NOC.isin(top_countries)]\n",
    "# Winter\n",
    "df_olympics_medal_GSB_winter=df_olympics_winter[(df_olympics_winter.Medal.notnull())]\n",
    "df_olympics_medal_GSB_winter.Team=df_olympics_medal_GSB_winter.Team.apply(lambda x: \" \".join(re.findall(\"[a-zA-Z]+\", x)))\n",
    "df_olympics_medal_GSB_winter=df_olympics_medal_GSB_winter.groupby([\"Year\", \"NOC\", \"Medal\"]).agg(\\\n",
    "    {\"Event\":\"nunique\"}).reset_index()\n",
    "df_olympics_medal_GSB_winter=df_olympics_medal_GSB_winter.groupby([\"NOC\", \"Medal\"]).agg(\\\n",
    "    {\"Event\":\"sum\"}).reset_index()\n",
    "df_olympics_medal_GSB_winter=pd.pivot_table(df_olympics_medal_GSB_winter, values='Event', index=[\"NOC\"],\\\n",
    "                                       columns=['Medal']).reset_index()\n",
    "df_olympics_medal_GSB_winter.sort_values([\"Gold\", \"Silver\", \"Bronze\"], ascending=False, inplace=True)\n",
    "top_countries=df_olympics_medal_countries_winter.sort_values(\"Event\", ascending=False).head(10).NOC.values\n",
    "top_countries=top_countries.tolist()\n",
    "df_olympics_medal_GSB_winter=df_olympics_medal_GSB_winter.loc[df_olympics_medal_GSB_winter.NOC.isin(top_countries)]"
   ]
  },
  {
   "cell_type": "code",
   "execution_count": 9,
   "metadata": {
    "scrolled": false
   },
   "outputs": [
    {
     "data": {
      "text/html": [
       "<iframe id=\"igraph\" scrolling=\"no\" style=\"border:none;\" seamless=\"seamless\" src=\"https://plot.ly/~nikhilarosekuruvilla/1018.embed\" height=\"525px\" width=\"100%\"></iframe>"
      ],
      "text/plain": [
       "<plotly.tools.PlotlyDisplay object>"
      ]
     },
     "execution_count": 9,
     "metadata": {},
     "output_type": "execute_result"
    }
   ],
   "source": [
    "trace_summer_G=go.Bar(x=df_olympics_medal_GSB_summer.NOC,\n",
    "                        y=df_olympics_medal_GSB_summer.Gold,\n",
    "                        name='Gold',  visible=True,\n",
    "                        marker=dict(color='gold'))\n",
    "trace_summer_S=go.Bar(x=df_olympics_medal_GSB_summer.NOC,\n",
    "                        y=df_olympics_medal_GSB_summer.Silver,\n",
    "                        name='Silver',  visible=True,\n",
    "                        marker=dict(color='silver'))\n",
    "trace_summer_B=go.Bar(x=df_olympics_medal_GSB_summer.NOC,\n",
    "                        y=df_olympics_medal_GSB_summer.Bronze,\n",
    "                        name='Bronze',  visible=True,\n",
    "                        marker=dict(color='#CD853F'))\n",
    "trace_winter_G=go.Bar(x=df_olympics_medal_GSB_winter.NOC,\n",
    "                        y=df_olympics_medal_GSB_winter.Gold,\n",
    "                        name='Gold',  visible=False,\n",
    "                        marker=dict(color='gold'))\n",
    "trace_winter_S=go.Bar(x=df_olympics_medal_GSB_winter.NOC,\n",
    "                        y=df_olympics_medal_GSB_winter.Silver,\n",
    "                        name='Silver',  visible=False,\n",
    "                        marker=dict(color='silver'))\n",
    "trace_winter_B=go.Bar(x=df_olympics_medal_GSB_winter.NOC,\n",
    "                        y=df_olympics_medal_GSB_winter.Bronze,\n",
    "                        name='Bronze',  visible=False,\n",
    "                        marker=dict(color='#CD853F'))\n",
    "data = [trace_summer_G, trace_summer_S, trace_summer_B, trace_winter_G, trace_winter_S, trace_winter_B]\n",
    "updatemenus = list([\n",
    "    dict(type=\"buttons\",\n",
    "         active=-1,\n",
    "         buttons=list([\n",
    "            dict(label = 'Summer',\n",
    "                 method = 'update',\n",
    "                     args = [{'visible': [True, True, True, False, False, False]},\n",
    "                         {'title': 'Top Countries in Summer Olympics'\n",
    "                              }]),\n",
    "            dict(label = 'Winter',\n",
    "                 method = 'update',\n",
    "                 args = [{'visible': [False, False, False, True, True, True]},\n",
    "                         {'title': 'Top Countries in Winter Olympics'\n",
    "                          }])\n",
    "            ]),\n",
    "             direction='left',\n",
    "             x=0.01,\n",
    "             xanchor='left',\n",
    "             y=1.1,\n",
    "             yanchor='top' \n",
    "    )\n",
    "])\n",
    "layout = dict(barmode='stack', \n",
    "              title='Top Countries in Summer Olympics', \n",
    "              showlegend=True,\n",
    "              legend=dict(x=.85, y=1, \n",
    "                             bgcolor='#5E565F',\n",
    "                             bordercolor=\"white\",\n",
    "                             borderwidth=1,\n",
    "                             font=dict(color=\"white\")),\n",
    "              updatemenus=updatemenus,\n",
    "              plot_bgcolor='#5E565F',\n",
    "                 font=dict(size=16),\n",
    "                 xaxis={'title':'Country code',\n",
    "                    'tickfont':dict(size=12)}, \n",
    "                 yaxis={'title':'Count of medals',\n",
    "                       'tickfont':dict(size=12)})\n",
    "fig = dict(data=data, layout=layout)\n",
    "py.iplot(fig)"
   ]
  },
  {
   "cell_type": "markdown",
   "metadata": {},
   "source": [
    "<a id=\"i1\"></a>"
   ]
  },
  {
   "cell_type": "markdown",
   "metadata": {},
   "source": [
    "###  Insights"
   ]
  },
  {
   "cell_type": "markdown",
   "metadata": {},
   "source": [
    "1. The countries winnning highest number of medals in Summer games are different from those winning in Winter games except USA, Russia and Germany. \n",
    "2. We can notice that the top countries at the Olympic games are some of the most developed countries in the world.   \n",
    "    * Hence, they can provide their atheletes with top-notch facilities, coaches and training centers to excel at their game.\n",
    "3. At the Winter games we can see that there are very less countries participating compared to Summer games.     \n",
    "    * This is probably because, for them it's less expensive and they have better infrastructure compared to tropical countries to  train their atheletes for Winter Olympics events.    \n",
    "    * Most of the countries winning in Winter games are those countries away from the equator or those with colder climates than rest of the world.    "
   ]
  },
  {
   "cell_type": "markdown",
   "metadata": {},
   "source": [
    "<a id=\"3v\"></a>"
   ]
  },
  {
   "cell_type": "markdown",
   "metadata": {},
   "source": [
    "## 2nd Visualization: Conversion rate to medals"
   ]
  },
  {
   "cell_type": "code",
   "execution_count": 10,
   "metadata": {
    "scrolled": true
   },
   "outputs": [],
   "source": [
    "# Count of Partiipants\n",
    "df_olympics_summer_pariticpants=df_olympics_full\n",
    "df_olympics_summer_pariticpants.Team=df_olympics_summer_pariticpants.Team.apply(lambda x: \" \".join(re.findall(\"[a-zA-Z]+\", x)))\n",
    "df_olympics_summer_pariticpants_countries_year=df_olympics_summer_pariticpants.groupby([\"NOC\", \"Year\"]).agg(\\\n",
    "    {\"Event\":\"nunique\"}).reset_index()\n",
    "df_olympics_summer_pariticpants_countries=df_olympics_summer_pariticpants_countries_year.groupby([\"NOC\"]).agg(\\\n",
    "    {\"Event\":\"sum\"}).reset_index()\n",
    "df_olympics_summer_pariticpants_countries=df_olympics_summer_pariticpants_countries.sort_values(\\\n",
    "    \"Event\", ascending=False)\n",
    "df_olympics_summer_pariticpants_countries.rename(columns={'Event': 'Participants_count'}, \\\n",
    "                                                 inplace=True)\n",
    "# Count of Medal Winners\n",
    "df_olympics_medal_full=df_olympics_full[(df_olympics_full.Medal.notnull())]\n",
    "df_olympics_medal_full.Team=df_olympics_medal_full.Team.apply(lambda x: \" \".join(re.findall(\"[a-zA-Z]+\", x)))\n",
    "df_olympics_medal_full_per_year_summer=df_olympics_medal_full.groupby([\"NOC\", \"Year\"]).agg(\\\n",
    "    {\"Event\":\"nunique\"}).reset_index()\n",
    "df_olympics_medal_countries_full=df_olympics_medal_full_per_year_summer.groupby([\"NOC\"]).agg(\\\n",
    "    {\"Event\":\"sum\"}).reset_index()\n",
    "df_olympics_medal_countries_full=df_olympics_medal_countries_full.sort_values(\\\n",
    "    \"Event\", ascending=False)\n",
    "df_olympics_medal_countries_full.rename(columns={'Event': 'Medals_count'}, \\\n",
    "                                                 inplace=True)\n",
    "df_conversion = pd.merge(df_olympics_medal_countries_full, df_olympics_summer_pariticpants_countries, how=\"left\",\\\n",
    "                         on=['NOC'])\n",
    "df_conversion['ratio']=df_conversion.apply(lambda x: (x.Medals_count/x.Participants_count)*100,axis=1)\n",
    "df_conversion=df_conversion.sort_values(\"ratio\", ascending=False)\n",
    "df_conversion=df_conversion.head(10)"
   ]
  },
  {
   "cell_type": "code",
   "execution_count": 18,
   "metadata": {
    "scrolled": false
   },
   "outputs": [
    {
     "data": {
      "text/html": [
       "<iframe id=\"igraph\" scrolling=\"no\" style=\"border:none;\" seamless=\"seamless\" src=\"https://plot.ly/~nikhilarosekuruvilla/1030.embed\" height=\"525px\" width=\"100%\"></iframe>"
      ],
      "text/plain": [
       "<plotly.tools.PlotlyDisplay object>"
      ]
     },
     "execution_count": 18,
     "metadata": {},
     "output_type": "execute_result"
    }
   ],
   "source": [
    "trace1 = go.Bar(\n",
    "    x=df_conversion.NOC,\n",
    "    y=df_conversion.Participants_count,\n",
    "    name='Participants',\n",
    "    marker=dict(color='#660033')\n",
    ")\n",
    "trace2 = go.Bar(\n",
    "    x=df_conversion.NOC,\n",
    "    y=df_conversion.Medals_count,\n",
    "    name='Medals',\n",
    "    marker=dict(color='#009933')\n",
    ")\n",
    "trace3=go.Scatter(\n",
    "    x=df_conversion.NOC,\n",
    "    y=df_conversion.ratio,\n",
    "    yaxis='y2',\n",
    "    name='Medal to Participant ratio',\n",
    "    marker=dict(color='#ff9900')\n",
    ")\n",
    "layout=go.Layout(barmode='group',\n",
    "                 title=\"Medal to Participant ratio of Countries\",\n",
    "                 font=dict(size=16),\n",
    "                 xaxis={'title':'Country code',\n",
    "                    'tickfont':dict(size=14)}, \n",
    "                 yaxis={'title':'Count [Participants or Medals]',\n",
    "                       'tickfont':dict(size=14)},\n",
    "                  yaxis2=dict(\n",
    "                    title='Medal to Participant ratio',\n",
    "                        titlefont=dict(\n",
    "                            color='#ff9900'\n",
    "                        ),\n",
    "                        tickfont=dict(\n",
    "                            color='#ff9900'\n",
    "                        ),\n",
    "                        overlaying='y',\n",
    "                        side='right'\n",
    "                        ),\n",
    "                 legend=dict(x=.66, y=1, \n",
    "                             bgcolor='rgb(254, 247, 234)',\n",
    "                             bordercolor=\"black\",\n",
    "                             borderwidth=1),\n",
    "                 showlegend=True,                  \n",
    "                 plot_bgcolor='rgb(254, 247, 234)')\n",
    "data=[trace1, trace2, trace3]\n",
    "fig=go.Figure(data=data,layout=layout)\n",
    "py.iplot(fig)  "
   ]
  },
  {
   "cell_type": "markdown",
   "metadata": {},
   "source": [
    "<a id=\"i2\"></a>"
   ]
  },
  {
   "cell_type": "markdown",
   "metadata": {},
   "source": [
    "### Insights"
   ]
  },
  {
   "cell_type": "markdown",
   "metadata": {},
   "source": [
    "1. We can see that the three countries with most number of medals(U.S, Russia, Germany) have the highest participant to medal conversion ratio as well. But, what's interesting to note is that Ethiopia, Kenya, Cuba, Jamaica and Netherlands have high conversion ratio but are not present in the top 10 coutries with the highest number of medals.\n",
    "    * This could be because they are specialised in certain sports where they have very talented athletes along with considerable advantage on their genetic side as well. \n",
    "    * For example, if we take Ethiopia or Kenya, athletics, especially long distance running(5000, 10000, marathons), is their forte. It's scientifically proven that the lean and light body of East Africans favour them against the rest of the world.\n",
    "    * Similarly Jamaica is specialised in short distance running. Along with the hardwork that they put in, they also have a genetic advantage which is attributed to the ACE gene that is present in their body which results in larger than average heart capable of pumping highly oxygenated blood to muscles quicker than the average human.\n",
    "    * Cubans win the highest number of medals in Boxing. They are taught boxing from their very young age as an after school activity. This helps them to pick the best out of a larger pool of people. Also practicing it from a younger age helps them to shape better boxers when compared to other countries.\n",
    "    * In case of Netherlands, they dominate the Speed skating competitions in Winter Olympics. The Dutch tend to be relatively tall with an average height above 6 feet, which is an advantage in speed skating because it allows for taking long strides. Also, since childhood, Dutch skaters train with excellent instructors with the best skating equipment in the world. "
   ]
  },
  {
   "cell_type": "markdown",
   "metadata": {},
   "source": [
    "<a id=\"4v\"></a>"
   ]
  },
  {
   "cell_type": "markdown",
   "metadata": {},
   "source": [
    "## 3rd Visualization-I: Gender Equality at Olympics"
   ]
  },
  {
   "cell_type": "code",
   "execution_count": 13,
   "metadata": {},
   "outputs": [],
   "source": [
    "#calculating sex ratio of participants\n",
    "df_olympics_sex_ratio=df_olympics_medal_summer.groupby([\"Year\", \"Sex\"]).ID.count().reset_index()\n",
    "df_olympics_sex_ratio=pd.pivot_table(df_olympics_sex_ratio, values='ID', index=['Year'],\\\n",
    "                                        columns=['Sex']).reset_index()\n",
    "df_olympics_sex_ratio.fillna(1, inplace=True)\n",
    "df_olympics_sex_ratio[\"ratio\"]=df_olympics_sex_ratio.apply(lambda x: x.M/x.F, axis=1)\n",
    "#calculating female and male count of medal winners\n",
    "df_olympics_medal_gender=df_olympics_medal_summer.groupby([\"Year\", \"Sex\"]).agg({\"Event\":\"nunique\"}).reset_index()\n",
    "df_olympics_medal_gender=pd.pivot_table(df_olympics_medal_gender, values='Event', index=['Year'],\\\n",
    "                                        columns=['Sex']).reset_index()"
   ]
  },
  {
   "cell_type": "code",
   "execution_count": 14,
   "metadata": {},
   "outputs": [
    {
     "data": {
      "text/html": [
       "<iframe id=\"igraph\" scrolling=\"no\" style=\"border:none;\" seamless=\"seamless\" src=\"https://plot.ly/~nikhilarosekuruvilla/1022.embed\" height=\"525px\" width=\"100%\"></iframe>"
      ],
      "text/plain": [
       "<plotly.tools.PlotlyDisplay object>"
      ]
     },
     "execution_count": 14,
     "metadata": {},
     "output_type": "execute_result"
    }
   ],
   "source": [
    "trace1 = go.Scatter(\n",
    "    x=df_olympics_medal_gender.Year,\n",
    "    y=df_olympics_medal_gender.F,\n",
    "    name='Female',\n",
    "    marker=dict(color='#d02090')\n",
    ")\n",
    "trace2 = go.Scatter(\n",
    "    x=df_olympics_medal_gender.Year,\n",
    "    y=df_olympics_medal_gender.M,\n",
    "    name='Male',\n",
    "    marker=dict(color='#4169e1')\n",
    ")\n",
    "layout=go.Layout(barmode='group',\n",
    "                 title=\"Count of medal winners over the years\",\n",
    "                 font=dict(size=18),\n",
    "                 xaxis={'title':'Years',\n",
    "                    'tickfont':dict(size=16)}, \n",
    "                 yaxis={'title':'Count of medals',\n",
    "                       'tickfont':dict(size=16)},\n",
    "                 legend=dict(bgcolor='#EBF9E6',\n",
    "                            x=.84, y=.01,\n",
    "                            bordercolor=\"black\",\n",
    "                            borderwidth=1),\n",
    "                 showlegend=True, plot_bgcolor='#EBF9E6')\n",
    "data=[trace1, trace2]\n",
    "fig=go.Figure(data=data,layout=layout)\n",
    "py.iplot(fig)  "
   ]
  },
  {
   "cell_type": "markdown",
   "metadata": {},
   "source": [
    "<a id=\"i3\"></a>"
   ]
  },
  {
   "cell_type": "markdown",
   "metadata": {},
   "source": [
    "### Insights"
   ]
  },
  {
   "cell_type": "markdown",
   "metadata": {},
   "source": [
    "1. Over time, the number of medals for females have increased  which in turn says number of events for females have increased while the number of events for males have remained consistent.\n",
    "    * This shows that the number of events allowing female participation have increased in the last ten years, showing more respect and accepatance to women at Olympic games when compared to older times. "
   ]
  },
  {
   "cell_type": "markdown",
   "metadata": {},
   "source": [
    "<a id=\"5v\"></a>"
   ]
  },
  {
   "cell_type": "markdown",
   "metadata": {},
   "source": [
    "<a id=\"3v\"></a>"
   ]
  },
  {
   "cell_type": "markdown",
   "metadata": {},
   "source": [
    "## 3rd Visualization-II: Sex ratio of USA, Russia & Germany at Olympics"
   ]
  },
  {
   "cell_type": "code",
   "execution_count": 187,
   "metadata": {},
   "outputs": [],
   "source": [
    "# Calculating sex ratio over years\n",
    "df_sex_ratio=df_olympics_full.groupby([\"Year\", \"Sex\"]).ID.count().reset_index()\n",
    "df_sex_ratio=pd.pivot_table(df_sex_ratio, values='ID', index=['Year'],\\\n",
    "                                        columns=['Sex']).reset_index()\n",
    "df_sex_ratio.fillna(1, inplace=True)\n",
    "df_sex_ratio[\"ratio\"]=df_sex_ratio.apply(lambda x: x.M/x.F, axis=1)\n",
    "df_sex_ratio_per_country=df_olympics_summer.groupby([\"Year\", \"Sex\", \"NOC\"]).ID.count().to_frame().reset_index()\n",
    "df_sex_ratio_per_country=pd.pivot_table(index=[\"Year\", \"NOC\"], values=\"ID\", columns=\"Sex\",\\\n",
    "                                        data=df_sex_ratio_per_country)\n",
    "df_sex_ratio_per_country.fillna(1, inplace=True)\n",
    "df_sex_ratio_per_country[\"ratio\"]=df_sex_ratio_per_country.apply(lambda x: x.M/x.F, axis=1)\n",
    "df_sex_ratio_per_country=df_sex_ratio_per_country.reset_index()\n",
    "df_sex_ratio_USA=df_sex_ratio_per_country[df_sex_ratio_per_country.NOC==\"USA\"]\n",
    "df_sex_ratio_GER=df_sex_ratio_per_country[df_sex_ratio_per_country.NOC==\"GER\"]\n",
    "df_sex_ratio_RUS=df_sex_ratio_per_country[df_sex_ratio_per_country.NOC==\"RUS\"]"
   ]
  },
  {
   "cell_type": "code",
   "execution_count": 333,
   "metadata": {},
   "outputs": [
    {
     "data": {
      "image/png": "[encoded data removed]",
      "text/plain": [
       "<Figure size 1152x576 with 1 Axes>"
      ]
     },
     "metadata": {},
     "output_type": "display_data"
    }
   ],
   "source": [
    "sns.set_context(\"poster\")\n",
    "plt.rcParams['figure.figsize']=(16,8)\n",
    "plt.plot(df_sex_ratio.Year, df_sex_ratio.ratio, label=\"Overall Sex ratio\", color=\"teal\")\n",
    "plt.plot(df_sex_ratio_USA.Year, df_sex_ratio_USA.ratio, label=\"USA\", color=\"blue\",  linestyle='--')\n",
    "plt.plot(df_sex_ratio_RUS.Year, df_sex_ratio_RUS.ratio, label=\"RUS\", color=\"magenta\",  linestyle='--')\n",
    "plt.plot(df_sex_ratio_GER.Year, df_sex_ratio_GER.ratio, label=\"GER\", color=\"lightgreen\",  linestyle='--')\n",
    "plt.title(\"Sex ratio(Male/Female) of USA, Russia & Germany at Olympics\", y=1.05, fontsize=20)\n",
    "plt.annotate('USA', xy=(1985, 1.6), xytext=(1977, 1.83),)  \n",
    "plt.annotate('Russia', xy=(1990, 1.78), xytext=(1977, 2.05),) \n",
    "plt.annotate('Overall ratio', xy=(1990, 1.78), xytext=(1977, 2.85),) \n",
    "plt.annotate('Germany', xy=(1990, 1.78), xytext=(1977, 1.23),)            \n",
    "plt.xlabel(\"Years\", labelpad=15, fontsize=20)\n",
    "plt.ylabel(\"Best<----Sex ratio--->Worse\", labelpad=15, fontsize=20)\n",
    "plt.legend(loc='upper right', fontsize='small')\n",
    "plt.show()"
   ]
  },
  {
   "cell_type": "markdown",
   "metadata": {},
   "source": [
    "<a id=\"i4\"></a>"
   ]
  },
  {
   "cell_type": "markdown",
   "metadata": {},
   "source": [
    "## Insights"
   ]
  },
  {
   "cell_type": "markdown",
   "metadata": {},
   "source": [
    "1. USA, Russia and Germany are three of the top countries who perform well at both Summer and Winter Olympics. Comparing their sex ratios to the overall sex ratio at the Olympic games, we can see that their sex ratios are comparitively lower than the overall value.\n",
    "     * This is interesting because one of the reasons why they do well at the games could be because they train their athletes without any discrimination on gender and give oppurtunity to people with talents."
   ]
  },
  {
   "cell_type": "markdown",
   "metadata": {},
   "source": [
    "<a id=\"ed\"></a>"
   ]
  },
  {
   "cell_type": "markdown",
   "metadata": {},
   "source": [
    "# Exploratory Data Analysis"
   ]
  },
  {
   "cell_type": "markdown",
   "metadata": {},
   "source": [
    "<a id=\"e1\"></a>"
   ]
  },
  {
   "cell_type": "markdown",
   "metadata": {},
   "source": [
    "##  Female dominated Sports"
   ]
  },
  {
   "cell_type": "code",
   "execution_count": 270,
   "metadata": {
    "scrolled": true
   },
   "outputs": [
    {
     "data": {
      "text/html": [
       "<div>\n",
       "<style scoped>\n",
       "    .dataframe tbody tr th:only-of-type {\n",
       "        vertical-align: middle;\n",
       "    }\n",
       "\n",
       "    .dataframe tbody tr th {\n",
       "        vertical-align: top;\n",
       "    }\n",
       "\n",
       "    .dataframe thead th {\n",
       "        text-align: right;\n",
       "    }\n",
       "</style>\n",
       "<table border=\"1\" class=\"dataframe\">\n",
       "  <thead>\n",
       "    <tr style=\"text-align: right;\">\n",
       "      <th>Sex</th>\n",
       "      <th>Sport</th>\n",
       "      <th>F</th>\n",
       "      <th>M</th>\n",
       "      <th>total</th>\n",
       "    </tr>\n",
       "  </thead>\n",
       "  <tbody>\n",
       "    <tr>\n",
       "      <th>13</th>\n",
       "      <td>Golf</td>\n",
       "      <td>60.0</td>\n",
       "      <td>60.0</td>\n",
       "      <td>120.0</td>\n",
       "    </tr>\n",
       "    <tr>\n",
       "      <th>30</th>\n",
       "      <td>Trampolining</td>\n",
       "      <td>76.0</td>\n",
       "      <td>76.0</td>\n",
       "      <td>152.0</td>\n",
       "    </tr>\n",
       "    <tr>\n",
       "      <th>2</th>\n",
       "      <td>Badminton</td>\n",
       "      <td>740.0</td>\n",
       "      <td>717.0</td>\n",
       "      <td>1457.0</td>\n",
       "    </tr>\n",
       "  </tbody>\n",
       "</table>\n",
       "</div>"
      ],
      "text/plain": [
       "Sex         Sport      F      M   total\n",
       "13           Golf   60.0   60.0   120.0\n",
       "30   Trampolining   76.0   76.0   152.0\n",
       "2       Badminton  740.0  717.0  1457.0"
      ]
     },
     "execution_count": 270,
     "metadata": {},
     "output_type": "execute_result"
    }
   ],
   "source": [
    "df_popular_sex_summer=df_olympics_summer.groupby([\"Sport\", \"Sex\"]).ID.count().to_frame().reset_index()\n",
    "df_popular_sex_summer=pd.pivot_table(index=\"Sport\", values=\"ID\", columns=\"Sex\", data=df_popular_sex_summer)\n",
    "df_popular_sex_summer[\"total\"]=df_popular_sex_summer.apply(lambda x: x.F+x.M, axis=1)\n",
    "df_popular_sex_summer=df_popular_sex_summer.reset_index()\n",
    "df_popular_sex_summer.fillna(0, inplace=True)\n",
    "df_popular_sex_summer=df_popular_sex_summer[(df_popular_sex_summer.F>=df_popular_sex_summer.M) & (df_popular_sex_summer.M!=0)]\n",
    "df_popular_sex_summer=df_popular_sex_summer.sort_values([\"total\", \"F\"], ascending=True)\n",
    "df_popular_sex_summer"
   ]
  },
  {
   "cell_type": "code",
   "execution_count": 346,
   "metadata": {
    "scrolled": false
   },
   "outputs": [
    {
     "data": {
      "text/html": [
       "<iframe id=\"igraph\" scrolling=\"no\" style=\"border:none;\" seamless=\"seamless\" src=\"https://plot.ly/~nikhilarosekuruvilla/1012.embed\" height=\"525px\" width=\"100%\"></iframe>"
      ],
      "text/plain": [
       "<plotly.tools.PlotlyDisplay object>"
      ]
     },
     "execution_count": 346,
     "metadata": {},
     "output_type": "execute_result"
    }
   ],
   "source": [
    "trace1 = go.Bar(\n",
    "    x=df_popular_sex_summer.Sport,\n",
    "    y=df_popular_sex_summer.F,\n",
    "    name='Female', orientation = 'v',\n",
    "    marker=dict(color='#d02090')\n",
    ")\n",
    "trace2 = go.Bar(\n",
    "    x=df_popular_sex_summer.Sport,\n",
    "    y=df_popular_sex_summer.M,\n",
    "    name='Male', orientation = 'v',\n",
    "    marker=dict(color='#4169e1')\n",
    ")\n",
    "data = [trace1, trace2]\n",
    "layout=go.Layout(barmode='stack',\n",
    "                 title=\"Female Dominated Sports\",\n",
    "                 font=dict(size=18),\n",
    "                 xaxis={'title':'Sports',\n",
    "                    'tickfont':dict(size=14),\n",
    "                       'tickangle':0}, \n",
    "                 yaxis={'title':'Count of participants',\n",
    "                       'tickfont':dict(size=14)},\n",
    "                 legend=dict(orientation=\"v\"),\n",
    "                 showlegend=True)\n",
    "annotations=[]\n",
    "for index, row in df_popular_sex_summer.iterrows():\n",
    "    temp=df_popular_sex_summer.loc[index]\n",
    "    if temp.Sport==\"Badminton\":\n",
    "        col=\"#00FA9A\"\n",
    "    else:\n",
    "        col=\"#32CD32\"\n",
    "    annotations.append(dict(x=temp.Sport, y=(temp.F)+200, text=(\"Female=\"+str(temp.F)+\"\\n\"+\"Male=\"+str(temp.M)),\n",
    "                                font=dict(family='Arial', size=14,\n",
    "                                color=col),\n",
    "                                showarrow=False,))    \n",
    "    layout['annotations']=annotations\n",
    "fig = go.Figure(data=data, layout=layout)\n",
    "py.iplot(fig)"
   ]
  },
  {
   "cell_type": "markdown",
   "metadata": {},
   "source": [
    "1. In a broader sense, Olympics is male dominated , but there are some sports where females still outshine men.    \n",
    "    * Badminton->Back in the mid-19th century when badminton was invented, it was considered a feminine sport as its rules were pretty lax and the sport was not a physical one then. But, now that perception has changed as game became more tougher and faster, the women still remains but, number of men participating have incresed considerably.   \n",
    "    * Golf is in the top of the list because after 1904 golf was reinstated to Olympics for the first time in Rio 2016 games, where we had our sex ratio closer to one. Hence, when considering last 10 years of Summer Olympics Golf appears in the female dominated sports list.\n",
    "    * Events like Synchronized Swimming and Rhythmic Gymnastics are only meant for females. This could be attributed to the fact that women are more flexible physically than men and hence has an upper-hand in executing these sports with highest perfection.\n",
    "    * Softball also appears in the list beacuse its women's baseball with slighter alterations to the size of the field and ball used."
   ]
  },
  {
   "cell_type": "markdown",
   "metadata": {},
   "source": [
    "<a id=\"e2\"></a>"
   ]
  },
  {
   "cell_type": "markdown",
   "metadata": {},
   "source": [
    "##  Age analysis"
   ]
  },
  {
   "cell_type": "code",
   "execution_count": 315,
   "metadata": {},
   "outputs": [
    {
     "data": {
      "image/png": "[encoded data removed]",
      "text/plain": [
       "<Figure size 1152x648 with 1 Axes>"
      ]
     },
     "metadata": {},
     "output_type": "display_data"
    }
   ],
   "source": [
    "df_olympics_medal_demo=df_olympics_medal_summer.groupby([\"NOC\"]).agg(\\\n",
    "    {\"Height\":\"mean\", \"Weight\":\"mean\", \"Age\":\"mean\"}).reset_index()\n",
    "df_body_mean=df_olympics_medal_demo[df_olympics_medal_demo.NOC.isin(top_countries)]\n",
    "plt.figure(figsize=(16,9))\n",
    "sns.barplot(x=\"Age\", y=\"NOC\", data=df_body_mean)\n",
    "plt.title(\"Average age of medal winners across Countries\", fontsize=25, y=1.03)\n",
    "plt.ylabel(\"Country Code\")\n",
    "plt.xlabel(\"Age(years)\")\n",
    "plt.show()"
   ]
  },
  {
   "cell_type": "markdown",
   "metadata": {},
   "source": [
    "**The age of participants are almost same across countries over the years**"
   ]
  },
  {
   "cell_type": "markdown",
   "metadata": {},
   "source": [
    "<a id=\"e3\"></a>"
   ]
  },
  {
   "cell_type": "markdown",
   "metadata": {},
   "source": [
    "## Sex ratio at Summer vs Winter Olympics"
   ]
  },
  {
   "cell_type": "code",
   "execution_count": 20,
   "metadata": {},
   "outputs": [],
   "source": [
    "# Winter\n",
    "df_sex_ratio_winter=df_olympics_winter.groupby([\"Year\", \"Sex\"]).ID.count().to_frame().reset_index()\n",
    "df_sex_ratio_winter=pd.pivot_table(index=\"Year\", values=\"ID\", columns=\"Sex\", data=df_sex_ratio_winter)\n",
    "df_sex_ratio_winter.fillna(1, inplace=True)\n",
    "df_sex_ratio_winter[\"ratio\"]=df_sex_ratio_winter.apply(lambda x: x.M/x.F, axis=1)\n",
    "df_sex_ratio_winter=df_sex_ratio_winter.reset_index()\n",
    "# Summer\n",
    "df_sex_ratio_summer=df_olympics_summer.groupby([\"Year\", \"Sex\"]).ID.count().reset_index()\n",
    "df_sex_ratio_summer=pd.pivot_table(df_sex_ratio_summer, values='ID', index=['Year'],\\\n",
    "                                        columns=['Sex']).reset_index()\n",
    "df_sex_ratio_summer.fillna(1, inplace=True)\n",
    "df_sex_ratio_summer[\"ratio\"]=df_sex_ratio_summer.apply(lambda x: x.M/x.F, axis=1)"
   ]
  },
  {
   "cell_type": "code",
   "execution_count": 319,
   "metadata": {},
   "outputs": [
    {
     "data": {
      "image/png": "[encoded data removed]",
      "text/plain": [
       "<Figure size 864x720 with 1 Axes>"
      ]
     },
     "metadata": {},
     "output_type": "display_data"
    }
   ],
   "source": [
    "sns.set_context(\"poster\")\n",
    "plt.rcParams['figure.figsize']=(12,10)\n",
    "plt.plot(df_sex_ratio_summer.Year, df_sex_ratio_winter.ratio, label=\"Winter\", color=\"green\")\n",
    "plt.plot(df_sex_ratio_summer.Year, df_sex_ratio_summer.ratio, linestyle='--', label=\"Summer\", color=\"green\")\n",
    "plt.title(\"Sex ratio of Summer & Winter Olympics\", y=1.03, fontsize=25)\n",
    "plt.xlabel(\"Years\", labelpad=15, fontsize=25)\n",
    "plt.ylabel(\"Best<----Sex ratio--->Worse\", labelpad=15, fontsize=25)\n",
    "plt.legend(loc='upper right', fontsize='large')\n",
    "plt.show()"
   ]
  },
  {
   "cell_type": "markdown",
   "metadata": {},
   "source": [
    "**In both Summer and Winter games sex ratio has decreased over the years which shows a positive growth in the society around the world.**"
   ]
  }
 ],
 "metadata": {
  "kernelspec": {
   "display_name": "Python 3",
   "language": "python",
   "name": "python3"
  },
  "language_info": {
   "codemirror_mode": {
    "name": "ipython",
    "version": 3
   },
   "file_extension": ".py",
   "mimetype": "text/x-python",
   "name": "python",
   "nbconvert_exporter": "python",
   "pygments_lexer": "ipython3",
   "version": "3.6.5"
  }
 },
 "nbformat": 4,
 "nbformat_minor": 2
}
